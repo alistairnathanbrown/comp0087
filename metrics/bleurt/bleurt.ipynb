{
 "cells": [
  {
   "cell_type": "code",
   "execution_count": 1,
   "metadata": {},
   "outputs": [
    {
     "name": "stdout",
     "output_type": "stream",
     "text": [
      "Cloning into 'bleurt'...\n",
      "remote: Enumerating objects: 134, done.\u001b[K\n",
      "remote: Counting objects: 100% (18/18), done.\u001b[K\n",
      "remote: Compressing objects: 100% (18/18), done.\u001b[K\n",
      "remote: Total 134 (delta 0), reused 17 (delta 0), pack-reused 116 (from 1)\u001b[K\n",
      "Receiving objects: 100% (134/134), 31.28 MiB | 43.05 MiB/s, done.\n",
      "Resolving deltas: 100% (49/49), done.\n",
      "Processing /cs/student/projects1/dsml/2024/eborso/NLP_project/bleurt\n",
      "  Preparing metadata (setup.py) ... \u001b[?25ldone\n",
      "\u001b[?25hRequirement already satisfied: pandas in /cs/student/projects1/dsml/2024/eborso/project_venv/lib/python3.10/site-packages (from BLEURT==0.0.2) (2.2.3)\n",
      "Requirement already satisfied: numpy in /cs/student/projects1/dsml/2024/eborso/project_venv/lib/python3.10/site-packages (from BLEURT==0.0.2) (1.26.4)\n",
      "Requirement already satisfied: scipy in /cs/student/projects1/dsml/2024/eborso/project_venv/lib/python3.10/site-packages (from BLEURT==0.0.2) (1.15.2)\n",
      "Requirement already satisfied: tensorflow in /cs/student/projects1/dsml/2024/eborso/project_venv/lib/python3.10/site-packages (from BLEURT==0.0.2) (2.19.0)\n",
      "Requirement already satisfied: tf-slim>=1.1 in /cs/student/projects1/dsml/2024/eborso/project_venv/lib/python3.10/site-packages (from BLEURT==0.0.2) (1.1.0)\n",
      "Requirement already satisfied: sentencepiece in /cs/student/projects1/dsml/2024/eborso/project_venv/lib/python3.10/site-packages (from BLEURT==0.0.2) (0.2.0)\n",
      "Requirement already satisfied: absl-py>=0.2.2 in /cs/student/projects1/dsml/2024/eborso/project_venv/lib/python3.10/site-packages (from tf-slim>=1.1->BLEURT==0.0.2) (2.1.0)\n",
      "Requirement already satisfied: python-dateutil>=2.8.2 in /cs/student/projects1/dsml/2024/eborso/project_venv/lib/python3.10/site-packages (from pandas->BLEURT==0.0.2) (2.9.0.post0)\n",
      "Requirement already satisfied: pytz>=2020.1 in /cs/student/projects1/dsml/2024/eborso/project_venv/lib/python3.10/site-packages (from pandas->BLEURT==0.0.2) (2025.1)\n",
      "Requirement already satisfied: tzdata>=2022.7 in /cs/student/projects1/dsml/2024/eborso/project_venv/lib/python3.10/site-packages (from pandas->BLEURT==0.0.2) (2025.1)\n",
      "Requirement already satisfied: astunparse>=1.6.0 in /cs/student/projects1/dsml/2024/eborso/project_venv/lib/python3.10/site-packages (from tensorflow->BLEURT==0.0.2) (1.6.3)\n",
      "Requirement already satisfied: flatbuffers>=24.3.25 in /cs/student/projects1/dsml/2024/eborso/project_venv/lib/python3.10/site-packages (from tensorflow->BLEURT==0.0.2) (25.2.10)\n",
      "Requirement already satisfied: gast!=0.5.0,!=0.5.1,!=0.5.2,>=0.2.1 in /cs/student/projects1/dsml/2024/eborso/project_venv/lib/python3.10/site-packages (from tensorflow->BLEURT==0.0.2) (0.6.0)\n",
      "Requirement already satisfied: google-pasta>=0.1.1 in /cs/student/projects1/dsml/2024/eborso/project_venv/lib/python3.10/site-packages (from tensorflow->BLEURT==0.0.2) (0.2.0)\n",
      "Requirement already satisfied: libclang>=13.0.0 in /cs/student/projects1/dsml/2024/eborso/project_venv/lib/python3.10/site-packages (from tensorflow->BLEURT==0.0.2) (18.1.1)\n",
      "Requirement already satisfied: opt-einsum>=2.3.2 in /cs/student/projects1/dsml/2024/eborso/project_venv/lib/python3.10/site-packages (from tensorflow->BLEURT==0.0.2) (3.4.0)\n",
      "Requirement already satisfied: packaging in /cs/student/projects1/dsml/2024/eborso/project_venv/lib/python3.10/site-packages (from tensorflow->BLEURT==0.0.2) (24.2)\n",
      "Requirement already satisfied: protobuf!=4.21.0,!=4.21.1,!=4.21.2,!=4.21.3,!=4.21.4,!=4.21.5,<6.0.0dev,>=3.20.3 in /cs/student/projects1/dsml/2024/eborso/project_venv/lib/python3.10/site-packages (from tensorflow->BLEURT==0.0.2) (5.29.3)\n",
      "Requirement already satisfied: requests<3,>=2.21.0 in /cs/student/projects1/dsml/2024/eborso/project_venv/lib/python3.10/site-packages (from tensorflow->BLEURT==0.0.2) (2.32.3)\n",
      "Requirement already satisfied: setuptools in /cs/student/projects1/dsml/2024/eborso/project_venv/lib/python3.10/site-packages (from tensorflow->BLEURT==0.0.2) (76.0.0)\n",
      "Requirement already satisfied: six>=1.12.0 in /cs/student/projects1/dsml/2024/eborso/project_venv/lib/python3.10/site-packages (from tensorflow->BLEURT==0.0.2) (1.17.0)\n",
      "Requirement already satisfied: termcolor>=1.1.0 in /cs/student/projects1/dsml/2024/eborso/project_venv/lib/python3.10/site-packages (from tensorflow->BLEURT==0.0.2) (2.5.0)\n",
      "Requirement already satisfied: typing-extensions>=3.6.6 in /cs/student/projects1/dsml/2024/eborso/project_venv/lib/python3.10/site-packages (from tensorflow->BLEURT==0.0.2) (4.12.2)\n",
      "Requirement already satisfied: wrapt>=1.11.0 in /cs/student/projects1/dsml/2024/eborso/project_venv/lib/python3.10/site-packages (from tensorflow->BLEURT==0.0.2) (1.17.2)\n",
      "Requirement already satisfied: grpcio<2.0,>=1.24.3 in /cs/student/projects1/dsml/2024/eborso/project_venv/lib/python3.10/site-packages (from tensorflow->BLEURT==0.0.2) (1.71.0)\n",
      "Requirement already satisfied: tensorboard~=2.19.0 in /cs/student/projects1/dsml/2024/eborso/project_venv/lib/python3.10/site-packages (from tensorflow->BLEURT==0.0.2) (2.19.0)\n",
      "Requirement already satisfied: keras>=3.5.0 in /cs/student/projects1/dsml/2024/eborso/project_venv/lib/python3.10/site-packages (from tensorflow->BLEURT==0.0.2) (3.9.0)\n",
      "Requirement already satisfied: h5py>=3.11.0 in /cs/student/projects1/dsml/2024/eborso/project_venv/lib/python3.10/site-packages (from tensorflow->BLEURT==0.0.2) (3.13.0)\n",
      "Requirement already satisfied: ml-dtypes<1.0.0,>=0.5.1 in /cs/student/projects1/dsml/2024/eborso/project_venv/lib/python3.10/site-packages (from tensorflow->BLEURT==0.0.2) (0.5.1)\n",
      "Requirement already satisfied: tensorflow-io-gcs-filesystem>=0.23.1 in /cs/student/projects1/dsml/2024/eborso/project_venv/lib/python3.10/site-packages (from tensorflow->BLEURT==0.0.2) (0.37.1)\n",
      "Requirement already satisfied: wheel<1.0,>=0.23.0 in /cs/student/projects1/dsml/2024/eborso/project_venv/lib/python3.10/site-packages (from astunparse>=1.6.0->tensorflow->BLEURT==0.0.2) (0.45.1)\n",
      "Requirement already satisfied: rich in /cs/student/projects1/dsml/2024/eborso/project_venv/lib/python3.10/site-packages (from keras>=3.5.0->tensorflow->BLEURT==0.0.2) (13.9.4)\n",
      "Requirement already satisfied: namex in /cs/student/projects1/dsml/2024/eborso/project_venv/lib/python3.10/site-packages (from keras>=3.5.0->tensorflow->BLEURT==0.0.2) (0.0.8)\n",
      "Requirement already satisfied: optree in /cs/student/projects1/dsml/2024/eborso/project_venv/lib/python3.10/site-packages (from keras>=3.5.0->tensorflow->BLEURT==0.0.2) (0.14.1)\n",
      "Requirement already satisfied: charset-normalizer<4,>=2 in /cs/student/projects1/dsml/2024/eborso/project_venv/lib/python3.10/site-packages (from requests<3,>=2.21.0->tensorflow->BLEURT==0.0.2) (3.4.1)\n",
      "Requirement already satisfied: idna<4,>=2.5 in /cs/student/projects1/dsml/2024/eborso/project_venv/lib/python3.10/site-packages (from requests<3,>=2.21.0->tensorflow->BLEURT==0.0.2) (3.10)\n",
      "Requirement already satisfied: urllib3<3,>=1.21.1 in /cs/student/projects1/dsml/2024/eborso/project_venv/lib/python3.10/site-packages (from requests<3,>=2.21.0->tensorflow->BLEURT==0.0.2) (2.3.0)\n",
      "Requirement already satisfied: certifi>=2017.4.17 in /cs/student/projects1/dsml/2024/eborso/project_venv/lib/python3.10/site-packages (from requests<3,>=2.21.0->tensorflow->BLEURT==0.0.2) (2025.1.31)\n",
      "Requirement already satisfied: markdown>=2.6.8 in /cs/student/projects1/dsml/2024/eborso/project_venv/lib/python3.10/site-packages (from tensorboard~=2.19.0->tensorflow->BLEURT==0.0.2) (3.7)\n",
      "Requirement already satisfied: tensorboard-data-server<0.8.0,>=0.7.0 in /cs/student/projects1/dsml/2024/eborso/project_venv/lib/python3.10/site-packages (from tensorboard~=2.19.0->tensorflow->BLEURT==0.0.2) (0.7.2)\n",
      "Requirement already satisfied: werkzeug>=1.0.1 in /cs/student/projects1/dsml/2024/eborso/project_venv/lib/python3.10/site-packages (from tensorboard~=2.19.0->tensorflow->BLEURT==0.0.2) (3.1.3)\n",
      "Requirement already satisfied: MarkupSafe>=2.1.1 in /cs/student/projects1/dsml/2024/eborso/project_venv/lib/python3.10/site-packages (from werkzeug>=1.0.1->tensorboard~=2.19.0->tensorflow->BLEURT==0.0.2) (3.0.2)\n",
      "Requirement already satisfied: markdown-it-py>=2.2.0 in /cs/student/projects1/dsml/2024/eborso/project_venv/lib/python3.10/site-packages (from rich->keras>=3.5.0->tensorflow->BLEURT==0.0.2) (3.0.0)\n",
      "Requirement already satisfied: pygments<3.0.0,>=2.13.0 in /cs/student/projects1/dsml/2024/eborso/project_venv/lib/python3.10/site-packages (from rich->keras>=3.5.0->tensorflow->BLEURT==0.0.2) (2.19.1)\n",
      "Requirement already satisfied: mdurl~=0.1 in /cs/student/projects1/dsml/2024/eborso/project_venv/lib/python3.10/site-packages (from markdown-it-py>=2.2.0->rich->keras>=3.5.0->tensorflow->BLEURT==0.0.2) (0.1.2)\n",
      "Building wheels for collected packages: BLEURT\n",
      "  Building wheel for BLEURT (setup.py) ... \u001b[?25ldone\n",
      "\u001b[?25h  Created wheel for BLEURT: filename=bleurt-0.0.2-py3-none-any.whl size=16456813 sha256=083156f70f9e1398be61ca5d77e85aae16aca0f4369db384706daae8f7997e70\n",
      "  Stored in directory: /tmp/pip-ephem-wheel-cache-4u63ht8a/wheels/51/45/5c/3e4a3a2fcfe5e6c4d0dfd32f8277950a553b2e6b90a779b2e6\n",
      "Successfully built BLEURT\n",
      "Installing collected packages: BLEURT\n",
      "Successfully installed BLEURT-0.0.2\n"
     ]
    }
   ],
   "source": [
    "# Install dependencies\n",
    "!git clone https://github.com/google-research/bleurt\n",
    "!cd bleurt && pip install .\n",
    "#!pip install torch tensorflow  # Ensure TensorFlow & PyTorch are installed"
   ]
  },
  {
   "cell_type": "code",
   "execution_count": 2,
   "metadata": {},
   "outputs": [
    {
     "data": {
      "text/plain": [
       "True"
      ]
     },
     "execution_count": 2,
     "metadata": {},
     "output_type": "execute_result"
    }
   ],
   "source": [
    "import torch\n",
    "torch.cuda.is_available()"
   ]
  },
  {
   "cell_type": "code",
   "execution_count": 7,
   "metadata": {},
   "outputs": [
    {
     "name": "stdout",
     "output_type": "stream",
     "text": [
      "Using device: cuda\n"
     ]
    }
   ],
   "source": [
    "device = \"cuda\" if torch.cuda.is_available() else \"cpu\"\n",
    "print(f\"Using device: {device}\")\n",
    "\n",
    "# Define BLEURT model URL and destination\n",
    "bleurt_url = \"https://storage.googleapis.com/bleurt-oss-21/BLEURT-20.zip\"\n",
    "bleurt_path = \"bleurt_checkpoint\""
   ]
  },
  {
   "cell_type": "code",
   "execution_count": 8,
   "metadata": {},
   "outputs": [
    {
     "name": "stdout",
     "output_type": "stream",
     "text": [
      "Downloading BLEURT model...\n",
      "Download complete.\n"
     ]
    }
   ],
   "source": [
    "import os\n",
    "import requests\n",
    "# Download BLEURT model if not already downloaded\n",
    "zip_path = \"BLEURT-20.zip\"\n",
    "if not os.path.exists(zip_path):\n",
    "    print(\"Downloading BLEURT model...\")\n",
    "    response = requests.get(bleurt_url, stream=True)\n",
    "    with open(zip_path, \"wb\") as file:\n",
    "        for chunk in response.iter_content(chunk_size=8192):\n",
    "            file.write(chunk)\n",
    "    print(\"Download complete.\")\n"
   ]
  },
  {
   "cell_type": "code",
   "execution_count": 10,
   "metadata": {},
   "outputs": [
    {
     "name": "stdout",
     "output_type": "stream",
     "text": [
      "Extracting BLEURT model...\n",
      "Extraction complete.\n",
      "BLEURT model is ready at: bleurt_checkpoint\n"
     ]
    }
   ],
   "source": [
    "import zipfile\n",
    "# Extract the BLEURT model if not already extracted\n",
    "if not os.path.exists(bleurt_path):\n",
    "    print(\"Extracting BLEURT model...\")\n",
    "    with zipfile.ZipFile(zip_path, \"r\") as zip_ref:\n",
    "        zip_ref.extractall(bleurt_path)\n",
    "    print(\"Extraction complete.\")\n",
    "\n",
    "print(\"BLEURT model is ready at:\", bleurt_path)"
   ]
  },
  {
   "cell_type": "code",
   "execution_count": 11,
   "metadata": {},
   "outputs": [
    {
     "name": "stderr",
     "output_type": "stream",
     "text": [
      "2025-03-13 16:12:35.705597: E external/local_xla/xla/stream_executor/cuda/cuda_fft.cc:467] Unable to register cuFFT factory: Attempting to register factory for plugin cuFFT when one has already been registered\n",
      "WARNING: All log messages before absl::InitializeLog() is called are written to STDERR\n",
      "E0000 00:00:1741882356.934047  200709 cuda_dnn.cc:8579] Unable to register cuDNN factory: Attempting to register factory for plugin cuDNN when one has already been registered\n",
      "E0000 00:00:1741882357.320619  200709 cuda_blas.cc:1407] Unable to register cuBLAS factory: Attempting to register factory for plugin cuBLAS when one has already been registered\n",
      "W0000 00:00:1741882360.574464  200709 computation_placer.cc:177] computation placer already registered. Please check linkage and avoid linking the same target more than once.\n",
      "W0000 00:00:1741882360.574558  200709 computation_placer.cc:177] computation placer already registered. Please check linkage and avoid linking the same target more than once.\n",
      "W0000 00:00:1741882360.574561  200709 computation_placer.cc:177] computation placer already registered. Please check linkage and avoid linking the same target more than once.\n",
      "W0000 00:00:1741882360.574563  200709 computation_placer.cc:177] computation placer already registered. Please check linkage and avoid linking the same target more than once.\n",
      "2025-03-13 16:12:40.831913: I tensorflow/core/platform/cpu_feature_guard.cc:210] This TensorFlow binary is optimized to use available CPU instructions in performance-critical operations.\n",
      "To enable the following instructions: AVX2 AVX512F FMA, in other operations, rebuild TensorFlow with the appropriate compiler flags.\n"
     ]
    },
    {
     "name": "stdout",
     "output_type": "stream",
     "text": [
      "INFO:tensorflow:Reading checkpoint bleurt_checkpoint/BLEURT-20.\n",
      "INFO:tensorflow:Config file found, reading.\n",
      "INFO:tensorflow:Will load checkpoint BLEURT-20\n",
      "INFO:tensorflow:Loads full paths and checks that files exists.\n",
      "INFO:tensorflow:... name:BLEURT-20\n",
      "INFO:tensorflow:... bert_config_file:bert_config.json\n",
      "INFO:tensorflow:... max_seq_length:512\n",
      "INFO:tensorflow:... vocab_file:None\n",
      "INFO:tensorflow:... do_lower_case:None\n",
      "INFO:tensorflow:... sp_model:sent_piece\n",
      "INFO:tensorflow:... dynamic_seq_length:True\n",
      "INFO:tensorflow:Creating BLEURT scorer.\n",
      "INFO:tensorflow:Creating SentencePiece tokenizer.\n",
      "INFO:tensorflow:Creating SentencePiece tokenizer.\n",
      "INFO:tensorflow:Will load model: bleurt_checkpoint/BLEURT-20/sent_piece.model.\n",
      "INFO:tensorflow:SentencePiece tokenizer created.\n",
      "INFO:tensorflow:Creating Eager Mode predictor.\n",
      "INFO:tensorflow:Loading model.\n"
     ]
    },
    {
     "name": "stderr",
     "output_type": "stream",
     "text": [
      "I0000 00:00:1741882461.483751  200709 gpu_device.cc:2019] Created device /job:localhost/replica:0/task:0/device:GPU:0 with 14053 MB memory:  -> device: 0, name: NVIDIA GeForce RTX 4070 Ti SUPER, pci bus id: 0000:65:00.0, compute capability: 8.9\n"
     ]
    },
    {
     "name": "stdout",
     "output_type": "stream",
     "text": [
      "INFO:tensorflow:BLEURT initialized.\n"
     ]
    },
    {
     "name": "stderr",
     "output_type": "stream",
     "text": [
      "INFO:tensorflow:BLEURT initialized.\n",
      "2025-03-13 16:15:11.393461: W tensorflow/compiler/mlir/tools/kernel_gen/transforms/gpu_kernel_to_blob_pass.cc:187] Failed to compile generated PTX with ptxas. Falling back to compilation by driver.\n",
      "2025-03-13 16:15:11.449004: W tensorflow/compiler/mlir/tools/kernel_gen/transforms/gpu_kernel_to_blob_pass.cc:187] Failed to compile generated PTX with ptxas. Falling back to compilation by driver.\n",
      "2025-03-13 16:15:11.452569: W tensorflow/compiler/mlir/tools/kernel_gen/transforms/gpu_kernel_to_blob_pass.cc:187] Failed to compile generated PTX with ptxas. Falling back to compilation by driver.\n",
      "2025-03-13 16:15:11.458707: W tensorflow/compiler/mlir/tools/kernel_gen/transforms/gpu_kernel_to_blob_pass.cc:187] Failed to compile generated PTX with ptxas. Falling back to compilation by driver.\n",
      "2025-03-13 16:15:11.464836: W tensorflow/compiler/mlir/tools/kernel_gen/transforms/gpu_kernel_to_blob_pass.cc:187] Failed to compile generated PTX with ptxas. Falling back to compilation by driver.\n",
      "2025-03-13 16:15:11.470970: W tensorflow/compiler/mlir/tools/kernel_gen/transforms/gpu_kernel_to_blob_pass.cc:187] Failed to compile generated PTX with ptxas. Falling back to compilation by driver.\n",
      "2025-03-13 16:15:11.477054: W tensorflow/compiler/mlir/tools/kernel_gen/transforms/gpu_kernel_to_blob_pass.cc:187] Failed to compile generated PTX with ptxas. Falling back to compilation by driver.\n",
      "2025-03-13 16:15:11.482653: W tensorflow/compiler/mlir/tools/kernel_gen/transforms/gpu_kernel_to_blob_pass.cc:187] Failed to compile generated PTX with ptxas. Falling back to compilation by driver.\n",
      "2025-03-13 16:15:12.222079: W tensorflow/compiler/mlir/tools/kernel_gen/transforms/gpu_kernel_to_blob_pass.cc:187] Failed to compile generated PTX with ptxas. Falling back to compilation by driver.\n",
      "2025-03-13 16:15:13.261673: W tensorflow/compiler/mlir/tools/kernel_gen/transforms/gpu_kernel_to_blob_pass.cc:187] Failed to compile generated PTX with ptxas. Falling back to compilation by driver.\n",
      "2025-03-13 16:15:13.264355: W tensorflow/compiler/mlir/tools/kernel_gen/transforms/gpu_kernel_to_blob_pass.cc:187] Failed to compile generated PTX with ptxas. Falling back to compilation by driver.\n",
      "2025-03-13 16:15:13.267570: W tensorflow/compiler/mlir/tools/kernel_gen/transforms/gpu_kernel_to_blob_pass.cc:187] Failed to compile generated PTX with ptxas. Falling back to compilation by driver.\n",
      "2025-03-13 16:15:13.269702: W tensorflow/compiler/mlir/tools/kernel_gen/transforms/gpu_kernel_to_blob_pass.cc:187] Failed to compile generated PTX with ptxas. Falling back to compilation by driver.\n",
      "2025-03-13 16:15:13.272792: W tensorflow/compiler/mlir/tools/kernel_gen/transforms/gpu_kernel_to_blob_pass.cc:187] Failed to compile generated PTX with ptxas. Falling back to compilation by driver.\n",
      "2025-03-13 16:15:13.279226: W tensorflow/compiler/mlir/tools/kernel_gen/transforms/gpu_kernel_to_blob_pass.cc:187] Failed to compile generated PTX with ptxas. Falling back to compilation by driver.\n",
      "2025-03-13 16:15:13.295149: W tensorflow/compiler/mlir/tools/kernel_gen/transforms/gpu_kernel_to_blob_pass.cc:187] Failed to compile generated PTX with ptxas. Falling back to compilation by driver.\n",
      "2025-03-13 16:15:13.308216: W tensorflow/compiler/mlir/tools/kernel_gen/transforms/gpu_kernel_to_blob_pass.cc:187] Failed to compile generated PTX with ptxas. Falling back to compilation by driver.\n"
     ]
    },
    {
     "name": "stdout",
     "output_type": "stream",
     "text": [
      "BLEURT score: [0.7237431406974792]\n"
     ]
    }
   ],
   "source": [
    "from bleurt import score\n",
    "# Load BLEURT scorer\n",
    "bleurt_checkpoint = os.path.join(bleurt_path, \"BLEURT-20\")\n",
    "scorer = score.BleurtScorer(bleurt_checkpoint)\n",
    "\n",
    "# Test BLEURT with a sample sentence\n",
    "hypothesis = \"This is a test sentence.\"\n",
    "reference = \"This is a sample sentence.\"\n",
    "print(\"BLEURT score:\", scorer.score(references=[reference], candidates=[hypothesis]))\n"
   ]
  },
  {
   "cell_type": "code",
   "execution_count": 24,
   "metadata": {},
   "outputs": [
    {
     "name": "stdout",
     "output_type": "stream",
     "text": [
      "    id          idiom                                     idiom_sentence  \\\n",
      "0  101       highlife  Despite having the riches to afford the highli...   \n",
      "1  102      birthrate  Minister of Family and Social Policy Marlena M...   \n",
      "2  103        homerun  So Aaron faced the same brutal racism other Bl...   \n",
      "3  105  publicservice  Program leaders said the scholarship defines p...   \n",
      "4  107       swansong  Blockchains , fundamentally , are banking beca...   \n",
      "\n",
      "                             original_idiom_sentence  \\\n",
      "0  Despite having the riches to afford the IDhigh...   \n",
      "1  Minister of Family and Social Policy Marlena M...   \n",
      "2  So Aaron faced the same brutal racism other Bl...   \n",
      "3  Program leaders said the scholarship defines I...   \n",
      "4  Blockchains , fundamentally , are banking beca...   \n",
      "\n",
      "                                     good_paraphrase  \n",
      "0  Despite having the riches to afford the expens...  \n",
      "1  Minister of Family and Social Policy Marlena M...  \n",
      "2  So Aaron faced the same brutal racism other Bl...  \n",
      "3  Program leaders said the scholarship defines p...  \n",
      "4  Blockchains , fundamentally , are banking beca...  \n"
     ]
    }
   ],
   "source": [
    "import pandas as pd\n",
    "# Load dataset from GitHub\n",
    "github_url = \"https://raw.githubusercontent.com/alistairnathanbrown/comp0087/bluert/idiom_data/idiom_dataset.json\"\n",
    "df = pd.read_json(github_url)\n",
    "print(df.head())  # Verify data\n"
   ]
  },
  {
   "cell_type": "code",
   "execution_count": 25,
   "metadata": {},
   "outputs": [
    {
     "name": "stdout",
     "output_type": "stream",
     "text": [
      "Computing BLEURT scores on GPU...\n"
     ]
    },
    {
     "name": "stdout",
     "output_type": "stream",
     "text": [
      "Scores have been saved to:\n",
      " - CSV: metrics/bleurt/outputs/bleurt_scores.csv\n",
      " - JSON: metrics/bleurt/outputs/bleurt_scores.json\n"
     ]
    }
   ],
   "source": [
    "import os\n",
    "import pandas as pd\n",
    "import json\n",
    "from bleurt import score\n",
    "import torch\n",
    "\n",
    "output_dir = \"metrics/bleurt/outputs\"\n",
    "os.makedirs(output_dir, exist_ok=True)\n",
    "\n",
    "# Optimize BLEURT processing using batch inference\n",
    "hypotheses = df['idiom_sentence'].tolist()\n",
    "references = df['good_paraphrase'].tolist()\n",
    "ids = df['id'].tolist()\n",
    "\n",
    "print(\"Computing BLEURT scores on GPU...\")\n",
    "\n",
    "# Run BLEURT on GPU if available\n",
    "with torch.no_grad():  # Disable PyTorch gradients for efficiency\n",
    "    scores = scorer.score(references=references, candidates=hypotheses)\n",
    "\n",
    "# Store only ID and BLEURT score in a DataFrame\n",
    "results_df = pd.DataFrame({'id': ids, 'bleurt_score': scores})\n",
    "\n",
    "# Save results to CSV\n",
    "csv_output_path = os.path.join(output_dir, 'bleurt_scores.csv')\n",
    "results_df.to_csv(csv_output_path, index=False)\n",
    "\n",
    "# Save results to JSON\n",
    "json_output_path = os.path.join(output_dir, 'bleurt_scores.json')\n",
    "with open(json_output_path, 'w') as json_file:\n",
    "    json.dump(results_df.to_dict(orient=\"records\"), json_file, indent=4)\n",
    "\n",
    "print(\"Scores have been saved to:\")\n",
    "print(f\" - CSV: {csv_output_path}\")\n",
    "print(f\" - JSON: {json_output_path}\")\n"
   ]
  },
  {
   "cell_type": "code",
   "execution_count": null,
   "metadata": {},
   "outputs": [],
   "source": []
  }
 ],
 "metadata": {
  "kernelspec": {
   "display_name": "project_venv",
   "language": "python",
   "name": "python3"
  },
  "language_info": {
   "codemirror_mode": {
    "name": "ipython",
    "version": 3
   },
   "file_extension": ".py",
   "mimetype": "text/x-python",
   "name": "python",
   "nbconvert_exporter": "python",
   "pygments_lexer": "ipython3",
   "version": "3.10.14"
  }
 },
 "nbformat": 4,
 "nbformat_minor": 2
}
